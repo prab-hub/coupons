{
 "cells": [
  {
   "cell_type": "markdown",
   "id": "ba71dfa2",
   "metadata": {},
   "source": [
    "# Finding the Churned Customers to Target for Promotions\n",
    "\n",
    "Online store of company has $1000 left in marketing budget and want to use that to send coupons to customers. Manager has decided to target the customers of physical store. But to avoid stealing the customers of physical store, he decided to only target churned customers. \n",
    "\n",
    "As a data analysts, we have a list of the best physical store customers (name and address) to send coupons to. We should use my best judgment to figure out what the value of the coupons should be and to how many people we can send them to. We'll figure what criteria to use to determine who the \"best\" customers are. \n",
    "\n",
    "So in this project, we've to \n",
    "* Define churned customers\n",
    "* Find out the value for coupon\n",
    "* Decide how many customers to send coupons to.\n"
   ]
  },
  {
   "cell_type": "markdown",
   "id": "2b21e3e0",
   "metadata": {},
   "source": [
    "# Data Exploring \n",
    "\n",
    "[This](https://github.com/prab-hub/coupons/blob/main/Retail_Data_Transactions.csv) is the dataset we will be analysing. Let's explore it as Pandas DataFrame."
   ]
  },
  {
   "cell_type": "code",
   "execution_count": 1,
   "id": "c19f69d9",
   "metadata": {
    "scrolled": true
   },
   "outputs": [
    {
     "name": "stdout",
     "output_type": "stream",
     "text": [
      "<class 'pandas.core.frame.DataFrame'>\n",
      "RangeIndex: 125000 entries, 0 to 124999\n",
      "Data columns (total 3 columns):\n",
      " #   Column       Non-Null Count   Dtype \n",
      "---  ------       --------------   ----- \n",
      " 0   customer_id  125000 non-null  object\n",
      " 1   trans_date   125000 non-null  object\n",
      " 2   tran_amount  125000 non-null  int64 \n",
      "dtypes: int64(1), object(2)\n",
      "memory usage: 2.9+ MB\n"
     ]
    }
   ],
   "source": [
    "import pandas as pd\n",
    "import datetime as dt\n",
    "data = pd.read_csv(\"C:/Users/Linus/Documents/Sheets/Retail_Data_Transactions.csv\")\n",
    "data.info()"
   ]
  },
  {
   "cell_type": "markdown",
   "id": "058be964",
   "metadata": {},
   "source": [
    "As we can see above, there are 125K transaction entries. Also data only contains customer ID, transaction dates & amounts. SO we just have to find transaction ID of best churned customers."
   ]
  },
  {
   "cell_type": "markdown",
   "id": "37c4e997",
   "metadata": {},
   "source": [
    "# Churned Customers\n",
    "\n",
    "We will group the transactions by `customer_id` and keep last transaction in `trans_date` column."
   ]
  },
  {
   "cell_type": "code",
   "execution_count": 2,
   "id": "f4f94c78",
   "metadata": {
    "scrolled": true
   },
   "outputs": [
    {
     "data": {
      "text/html": [
       "<div>\n",
       "<style scoped>\n",
       "    .dataframe tbody tr th:only-of-type {\n",
       "        vertical-align: middle;\n",
       "    }\n",
       "\n",
       "    .dataframe tbody tr th {\n",
       "        vertical-align: top;\n",
       "    }\n",
       "\n",
       "    .dataframe thead th {\n",
       "        text-align: right;\n",
       "    }\n",
       "</style>\n",
       "<table border=\"1\" class=\"dataframe\">\n",
       "  <thead>\n",
       "    <tr style=\"text-align: right;\">\n",
       "      <th></th>\n",
       "      <th>trans_date</th>\n",
       "    </tr>\n",
       "    <tr>\n",
       "      <th>customer_id</th>\n",
       "      <th></th>\n",
       "    </tr>\n",
       "  </thead>\n",
       "  <tbody>\n",
       "    <tr>\n",
       "      <th>CS1112</th>\n",
       "      <td>29-Apr-14</td>\n",
       "    </tr>\n",
       "    <tr>\n",
       "      <th>CS1113</th>\n",
       "      <td>30-Mar-12</td>\n",
       "    </tr>\n",
       "    <tr>\n",
       "      <th>CS1114</th>\n",
       "      <td>31-Dec-14</td>\n",
       "    </tr>\n",
       "    <tr>\n",
       "      <th>CS1115</th>\n",
       "      <td>27-Jun-13</td>\n",
       "    </tr>\n",
       "    <tr>\n",
       "      <th>CS1116</th>\n",
       "      <td>30-May-14</td>\n",
       "    </tr>\n",
       "    <tr>\n",
       "      <th>...</th>\n",
       "      <td>...</td>\n",
       "    </tr>\n",
       "    <tr>\n",
       "      <th>CS8996</th>\n",
       "      <td>29-Sep-12</td>\n",
       "    </tr>\n",
       "    <tr>\n",
       "      <th>CS8997</th>\n",
       "      <td>31-May-12</td>\n",
       "    </tr>\n",
       "    <tr>\n",
       "      <th>CS8998</th>\n",
       "      <td>27-Jul-12</td>\n",
       "    </tr>\n",
       "    <tr>\n",
       "      <th>CS8999</th>\n",
       "      <td>29-Sep-12</td>\n",
       "    </tr>\n",
       "    <tr>\n",
       "      <th>CS9000</th>\n",
       "      <td>28-Feb-15</td>\n",
       "    </tr>\n",
       "  </tbody>\n",
       "</table>\n",
       "<p>6889 rows × 1 columns</p>\n",
       "</div>"
      ],
      "text/plain": [
       "            trans_date\n",
       "customer_id           \n",
       "CS1112       29-Apr-14\n",
       "CS1113       30-Mar-12\n",
       "CS1114       31-Dec-14\n",
       "CS1115       27-Jun-13\n",
       "CS1116       30-May-14\n",
       "...                ...\n",
       "CS8996       29-Sep-12\n",
       "CS8997       31-May-12\n",
       "CS8998       27-Jul-12\n",
       "CS8999       29-Sep-12\n",
       "CS9000       28-Feb-15\n",
       "\n",
       "[6889 rows x 1 columns]"
      ]
     },
     "execution_count": 2,
     "metadata": {},
     "output_type": "execute_result"
    }
   ],
   "source": [
    "group_by_customer = data.groupby(\"customer_id\")\n",
    "last_transaction = group_by_customer['trans_date'].max()\n",
    "best_churn = pd.DataFrame(last_transaction)\n",
    "best_churn"
   ]
  },
  {
   "cell_type": "markdown",
   "id": "8000dfd5",
   "metadata": {},
   "source": [
    "We are left with ~7000 customers. \n",
    "\n",
    "Since we don't have concrete definition of churn, we will use Sept 16th, 2019 (3 months before analysis date) as a cut-off date. Anyone who hasn't purchased after cut-off date is churned customer. \n",
    "\n",
    "We will also calculate `nr_of_transactions` and `amount_spent` for each churned customer."
   ]
  },
  {
   "cell_type": "code",
   "execution_count": 3,
   "id": "55112496",
   "metadata": {},
   "outputs": [
    {
     "data": {
      "text/plain": [
       "1    6889\n",
       "Name: churned, dtype: int64"
      ]
     },
     "execution_count": 3,
     "metadata": {},
     "output_type": "execute_result"
    }
   ],
   "source": [
    "best_churn['trans_date'] = pd.to_datetime(best_churn['trans_date'])\n",
    "cutoff_day = dt.datetime(2019, 9, 16)\n",
    "best_churn[\"churned\"] = best_churn[\"trans_date\"].apply(lambda date:1 if date < cutoff_day else 0)\n",
    "best_churn[\"churned\"].value_counts()"
   ]
  },
  {
   "cell_type": "code",
   "execution_count": 4,
   "id": "ac988a91",
   "metadata": {},
   "outputs": [
    {
     "name": "stderr",
     "output_type": "stream",
     "text": [
      "C:\\Users\\Linus\\AppData\\Local\\Temp\\ipykernel_7096\\2235534557.py:2: FutureWarning: The default value of numeric_only in DataFrameGroupBy.sum is deprecated. In a future version, numeric_only will default to False. Either specify numeric_only or select only columns which should be valid for the function.\n",
      "  best_churn[\"amount_spent\"] = group_by_customer.sum()\n"
     ]
    }
   ],
   "source": [
    "best_churn[\"nr_of_transactions\"] = group_by_customer.size()\n",
    "best_churn[\"amount_spent\"] = group_by_customer.sum()\n",
    "best_churn.drop(\"trans_date\", axis=\"columns\", inplace=True)"
   ]
  },
  {
   "cell_type": "code",
   "execution_count": 11,
   "id": "4899d6cf",
   "metadata": {},
   "outputs": [
    {
     "data": {
      "text/html": [
       "<div>\n",
       "<style scoped>\n",
       "    .dataframe tbody tr th:only-of-type {\n",
       "        vertical-align: middle;\n",
       "    }\n",
       "\n",
       "    .dataframe tbody tr th {\n",
       "        vertical-align: top;\n",
       "    }\n",
       "\n",
       "    .dataframe thead th {\n",
       "        text-align: right;\n",
       "    }\n",
       "</style>\n",
       "<table border=\"1\" class=\"dataframe\">\n",
       "  <thead>\n",
       "    <tr style=\"text-align: right;\">\n",
       "      <th></th>\n",
       "      <th>churned</th>\n",
       "      <th>nr_of_transactions</th>\n",
       "      <th>amount_spent</th>\n",
       "    </tr>\n",
       "    <tr>\n",
       "      <th>customer_id</th>\n",
       "      <th></th>\n",
       "      <th></th>\n",
       "      <th></th>\n",
       "    </tr>\n",
       "  </thead>\n",
       "  <tbody>\n",
       "    <tr>\n",
       "      <th>CS1112</th>\n",
       "      <td>1</td>\n",
       "      <td>15</td>\n",
       "      <td>1012</td>\n",
       "    </tr>\n",
       "    <tr>\n",
       "      <th>CS1113</th>\n",
       "      <td>1</td>\n",
       "      <td>20</td>\n",
       "      <td>1490</td>\n",
       "    </tr>\n",
       "    <tr>\n",
       "      <th>CS1114</th>\n",
       "      <td>1</td>\n",
       "      <td>19</td>\n",
       "      <td>1432</td>\n",
       "    </tr>\n",
       "    <tr>\n",
       "      <th>CS1115</th>\n",
       "      <td>1</td>\n",
       "      <td>22</td>\n",
       "      <td>1659</td>\n",
       "    </tr>\n",
       "    <tr>\n",
       "      <th>CS1116</th>\n",
       "      <td>1</td>\n",
       "      <td>13</td>\n",
       "      <td>857</td>\n",
       "    </tr>\n",
       "    <tr>\n",
       "      <th>...</th>\n",
       "      <td>...</td>\n",
       "      <td>...</td>\n",
       "      <td>...</td>\n",
       "    </tr>\n",
       "    <tr>\n",
       "      <th>CS8996</th>\n",
       "      <td>1</td>\n",
       "      <td>13</td>\n",
       "      <td>582</td>\n",
       "    </tr>\n",
       "    <tr>\n",
       "      <th>CS8997</th>\n",
       "      <td>1</td>\n",
       "      <td>14</td>\n",
       "      <td>543</td>\n",
       "    </tr>\n",
       "    <tr>\n",
       "      <th>CS8998</th>\n",
       "      <td>1</td>\n",
       "      <td>13</td>\n",
       "      <td>624</td>\n",
       "    </tr>\n",
       "    <tr>\n",
       "      <th>CS8999</th>\n",
       "      <td>1</td>\n",
       "      <td>12</td>\n",
       "      <td>383</td>\n",
       "    </tr>\n",
       "    <tr>\n",
       "      <th>CS9000</th>\n",
       "      <td>1</td>\n",
       "      <td>13</td>\n",
       "      <td>533</td>\n",
       "    </tr>\n",
       "  </tbody>\n",
       "</table>\n",
       "<p>6889 rows × 3 columns</p>\n",
       "</div>"
      ],
      "text/plain": [
       "             churned  nr_of_transactions  amount_spent\n",
       "customer_id                                           \n",
       "CS1112             1                  15          1012\n",
       "CS1113             1                  20          1490\n",
       "CS1114             1                  19          1432\n",
       "CS1115             1                  22          1659\n",
       "CS1116             1                  13           857\n",
       "...              ...                 ...           ...\n",
       "CS8996             1                  13           582\n",
       "CS8997             1                  14           543\n",
       "CS8998             1                  13           624\n",
       "CS8999             1                  12           383\n",
       "CS9000             1                  13           533\n",
       "\n",
       "[6889 rows x 3 columns]"
      ]
     },
     "execution_count": 11,
     "metadata": {},
     "output_type": "execute_result"
    }
   ],
   "source": [
    "best_churn"
   ]
  },
  {
   "cell_type": "code",
   "execution_count": 13,
   "id": "b02b427d",
   "metadata": {},
   "outputs": [
    {
     "data": {
      "text/html": [
       "<div>\n",
       "<style scoped>\n",
       "    .dataframe tbody tr th:only-of-type {\n",
       "        vertical-align: middle;\n",
       "    }\n",
       "\n",
       "    .dataframe tbody tr th {\n",
       "        vertical-align: top;\n",
       "    }\n",
       "\n",
       "    .dataframe thead th {\n",
       "        text-align: right;\n",
       "    }\n",
       "</style>\n",
       "<table border=\"1\" class=\"dataframe\">\n",
       "  <thead>\n",
       "    <tr style=\"text-align: right;\">\n",
       "      <th></th>\n",
       "      <th>nr_of_transactions</th>\n",
       "      <th>amount_spent</th>\n",
       "    </tr>\n",
       "  </thead>\n",
       "  <tbody>\n",
       "    <tr>\n",
       "      <th>count</th>\n",
       "      <td>6889.000000</td>\n",
       "      <td>6889.000000</td>\n",
       "    </tr>\n",
       "    <tr>\n",
       "      <th>mean</th>\n",
       "      <td>18.144869</td>\n",
       "      <td>1179.269705</td>\n",
       "    </tr>\n",
       "    <tr>\n",
       "      <th>std</th>\n",
       "      <td>5.193014</td>\n",
       "      <td>465.832609</td>\n",
       "    </tr>\n",
       "    <tr>\n",
       "      <th>min</th>\n",
       "      <td>4.000000</td>\n",
       "      <td>149.000000</td>\n",
       "    </tr>\n",
       "    <tr>\n",
       "      <th>25%</th>\n",
       "      <td>14.000000</td>\n",
       "      <td>781.000000</td>\n",
       "    </tr>\n",
       "    <tr>\n",
       "      <th>50%</th>\n",
       "      <td>18.000000</td>\n",
       "      <td>1227.000000</td>\n",
       "    </tr>\n",
       "    <tr>\n",
       "      <th>75%</th>\n",
       "      <td>22.000000</td>\n",
       "      <td>1520.000000</td>\n",
       "    </tr>\n",
       "    <tr>\n",
       "      <th>max</th>\n",
       "      <td>39.000000</td>\n",
       "      <td>2933.000000</td>\n",
       "    </tr>\n",
       "  </tbody>\n",
       "</table>\n",
       "</div>"
      ],
      "text/plain": [
       "       nr_of_transactions  amount_spent\n",
       "count         6889.000000   6889.000000\n",
       "mean            18.144869   1179.269705\n",
       "std              5.193014    465.832609\n",
       "min              4.000000    149.000000\n",
       "25%             14.000000    781.000000\n",
       "50%             18.000000   1227.000000\n",
       "75%             22.000000   1520.000000\n",
       "max             39.000000   2933.000000"
      ]
     },
     "execution_count": 13,
     "metadata": {},
     "output_type": "execute_result"
    }
   ],
   "source": [
    "best_churn[[\"nr_of_transactions\", \"amount_spent\"]].describe()"
   ]
  },
  {
   "cell_type": "markdown",
   "id": "500a7334",
   "metadata": {},
   "source": [
    "# Ranking Customers\n",
    "\n",
    "We'll now focus on finding the best customers. This is a two-part problem: Find a ranking mechanism. Determine a threshold to identify the best customers.\n",
    "\n",
    "We will use a very simple weighted sum model to classify customers. Think of it as a scoring model that assigns a number to each customer that represents how good a customer they are.\n",
    "\n",
    "In this model, we will take two criteria into account: Amount spent and number of purchases made, and that the scores should be the same weight. This means that a customer who spent a lot is worth as much as someone who made many purchases.\n",
    "\n",
    "More formally, you define the score of a customer as:\n",
    "\n",
    "(1/2 * `Number of purchases`) + (1/2 * `Amount spent`)\n",
    "\n",
    "But if a customer has made two purchases totalling $500, their score would be 251. If a customer has spent $400 across 20 different purchases, their score would be 210.\n",
    "\n",
    "The second customer is clearly a regular customer and shows potential to spend more than the first in the long run, but it is scored lower than the first. This score with the data as is, favours money spent over the number of purchases. \n",
    "\n",
    "This happens for two reasons:\n",
    "\n",
    "+ Money spent is usually much higher than the number of transactions;\n",
    "+ We are using the same weight (1/2) for both criteria\n",
    "\n",
    "So we will use the min-max scaling technique to rescale both columns so that we can make an apples-to-apples comparison.\n",
    "\n",
    "Mathematically, we can do this by using the formula \n",
    "\n",
    "`(X-min(X))/(max(X)-min(X))`\n",
    "\n",
    "where `X` represents the column we want to scale. "
   ]
  },
  {
   "cell_type": "code",
   "execution_count": 21,
   "id": "0dfe3399",
   "metadata": {},
   "outputs": [
    {
     "data": {
      "text/plain": [
       "customer_id\n",
       "CS4424    1.000000\n",
       "CS4320    0.971429\n",
       "CS5752    0.828571\n",
       "CS4660    0.828571\n",
       "CS3799    0.914286\n",
       "            ...   \n",
       "CS8841    0.028571\n",
       "CS8077    0.028571\n",
       "CS8234    0.028571\n",
       "CS8559    0.000000\n",
       "CS7333    0.000000\n",
       "Name: scaled_tran, Length: 6889, dtype: float64"
      ]
     },
     "execution_count": 21,
     "metadata": {},
     "output_type": "execute_result"
    }
   ],
   "source": [
    "best_churn[\"scaled_tran\"] = (best_churn[\"nr_of_transactions\"] - \\\n",
    "best_churn[\"nr_of_transactions\"].min()) / (best_churn[\"nr_of_transactions\"].max() - \\\n",
    "best_churn[\"nr_of_transactions\"].min())\n",
    "\n",
    "best_churn[\"scaled_tran\"]"
   ]
  },
  {
   "cell_type": "code",
   "execution_count": 22,
   "id": "7422d106",
   "metadata": {},
   "outputs": [
    {
     "data": {
      "text/plain": [
       "customer_id\n",
       "CS4424    1.000000\n",
       "CS4320    0.897270\n",
       "CS5752    0.884698\n",
       "CS4660    0.854167\n",
       "CS3799    0.849138\n",
       "            ...   \n",
       "CS8841    0.011494\n",
       "CS8077    0.005388\n",
       "CS8234    0.002874\n",
       "CS8559    0.002874\n",
       "CS7333    0.000000\n",
       "Name: scaled_amount, Length: 6889, dtype: float64"
      ]
     },
     "execution_count": 22,
     "metadata": {},
     "output_type": "execute_result"
    }
   ],
   "source": [
    "best_churn[\"scaled_amount\"] = (best_churn[\"amount_spent\"] - \\\n",
    "best_churn[\"amount_spent\"].min()) / (best_churn[\"amount_spent\"].max() - \\\n",
    "best_churn[\"amount_spent\"].min())\n",
    "\n",
    "best_churn[\"scaled_amount\"]"
   ]
  },
  {
   "cell_type": "code",
   "execution_count": 23,
   "id": "a54bbd12",
   "metadata": {},
   "outputs": [
    {
     "data": {
      "text/plain": [
       "customer_id\n",
       "CS4424    100.000000\n",
       "CS4320     93.434934\n",
       "CS5752     85.663485\n",
       "CS4660     84.136905\n",
       "CS3799     88.171182\n",
       "             ...    \n",
       "CS8841      2.003284\n",
       "CS8077      1.697968\n",
       "CS8234      1.572250\n",
       "CS8559      0.143678\n",
       "CS7333      0.000000\n",
       "Name: score, Length: 6889, dtype: float64"
      ]
     },
     "execution_count": 23,
     "metadata": {},
     "output_type": "execute_result"
    }
   ],
   "source": [
    "best_churn['score'] = 100* (0.5*best_churn[\"scaled_amount\"] + 0.5*best_churn[\"scaled_tran\"])\n",
    "best_churn['score']"
   ]
  },
  {
   "cell_type": "code",
   "execution_count": 24,
   "id": "bcd23f19",
   "metadata": {},
   "outputs": [
    {
     "data": {
      "text/html": [
       "<div>\n",
       "<style scoped>\n",
       "    .dataframe tbody tr th:only-of-type {\n",
       "        vertical-align: middle;\n",
       "    }\n",
       "\n",
       "    .dataframe tbody tr th {\n",
       "        vertical-align: top;\n",
       "    }\n",
       "\n",
       "    .dataframe thead th {\n",
       "        text-align: right;\n",
       "    }\n",
       "</style>\n",
       "<table border=\"1\" class=\"dataframe\">\n",
       "  <thead>\n",
       "    <tr style=\"text-align: right;\">\n",
       "      <th></th>\n",
       "      <th>churned</th>\n",
       "      <th>nr_of_transactions</th>\n",
       "      <th>amount_spent</th>\n",
       "      <th>scaled_tran</th>\n",
       "      <th>scaled_amount</th>\n",
       "      <th>score</th>\n",
       "    </tr>\n",
       "    <tr>\n",
       "      <th>customer_id</th>\n",
       "      <th></th>\n",
       "      <th></th>\n",
       "      <th></th>\n",
       "      <th></th>\n",
       "      <th></th>\n",
       "      <th></th>\n",
       "    </tr>\n",
       "  </thead>\n",
       "  <tbody>\n",
       "    <tr>\n",
       "      <th>CS4424</th>\n",
       "      <td>1</td>\n",
       "      <td>39</td>\n",
       "      <td>2933</td>\n",
       "      <td>1.000000</td>\n",
       "      <td>1.000000</td>\n",
       "      <td>100.000000</td>\n",
       "    </tr>\n",
       "    <tr>\n",
       "      <th>CS4320</th>\n",
       "      <td>1</td>\n",
       "      <td>38</td>\n",
       "      <td>2647</td>\n",
       "      <td>0.971429</td>\n",
       "      <td>0.897270</td>\n",
       "      <td>93.434934</td>\n",
       "    </tr>\n",
       "    <tr>\n",
       "      <th>CS3799</th>\n",
       "      <td>1</td>\n",
       "      <td>36</td>\n",
       "      <td>2513</td>\n",
       "      <td>0.914286</td>\n",
       "      <td>0.849138</td>\n",
       "      <td>88.171182</td>\n",
       "    </tr>\n",
       "    <tr>\n",
       "      <th>CS5109</th>\n",
       "      <td>1</td>\n",
       "      <td>35</td>\n",
       "      <td>2506</td>\n",
       "      <td>0.885714</td>\n",
       "      <td>0.846624</td>\n",
       "      <td>86.616892</td>\n",
       "    </tr>\n",
       "    <tr>\n",
       "      <th>CS3805</th>\n",
       "      <td>1</td>\n",
       "      <td>35</td>\n",
       "      <td>2453</td>\n",
       "      <td>0.885714</td>\n",
       "      <td>0.827586</td>\n",
       "      <td>85.665025</td>\n",
       "    </tr>\n",
       "    <tr>\n",
       "      <th>...</th>\n",
       "      <td>...</td>\n",
       "      <td>...</td>\n",
       "      <td>...</td>\n",
       "      <td>...</td>\n",
       "      <td>...</td>\n",
       "      <td>...</td>\n",
       "    </tr>\n",
       "    <tr>\n",
       "      <th>CS7716</th>\n",
       "      <td>1</td>\n",
       "      <td>4</td>\n",
       "      <td>221</td>\n",
       "      <td>0.000000</td>\n",
       "      <td>0.025862</td>\n",
       "      <td>1.293103</td>\n",
       "    </tr>\n",
       "    <tr>\n",
       "      <th>CS7224</th>\n",
       "      <td>1</td>\n",
       "      <td>4</td>\n",
       "      <td>191</td>\n",
       "      <td>0.000000</td>\n",
       "      <td>0.015086</td>\n",
       "      <td>0.754310</td>\n",
       "    </tr>\n",
       "    <tr>\n",
       "      <th>CS8504</th>\n",
       "      <td>1</td>\n",
       "      <td>4</td>\n",
       "      <td>190</td>\n",
       "      <td>0.000000</td>\n",
       "      <td>0.014727</td>\n",
       "      <td>0.736351</td>\n",
       "    </tr>\n",
       "    <tr>\n",
       "      <th>CS8559</th>\n",
       "      <td>1</td>\n",
       "      <td>4</td>\n",
       "      <td>157</td>\n",
       "      <td>0.000000</td>\n",
       "      <td>0.002874</td>\n",
       "      <td>0.143678</td>\n",
       "    </tr>\n",
       "    <tr>\n",
       "      <th>CS7333</th>\n",
       "      <td>1</td>\n",
       "      <td>4</td>\n",
       "      <td>149</td>\n",
       "      <td>0.000000</td>\n",
       "      <td>0.000000</td>\n",
       "      <td>0.000000</td>\n",
       "    </tr>\n",
       "  </tbody>\n",
       "</table>\n",
       "<p>6889 rows × 6 columns</p>\n",
       "</div>"
      ],
      "text/plain": [
       "             churned  nr_of_transactions  amount_spent  scaled_tran  \\\n",
       "customer_id                                                           \n",
       "CS4424             1                  39          2933     1.000000   \n",
       "CS4320             1                  38          2647     0.971429   \n",
       "CS3799             1                  36          2513     0.914286   \n",
       "CS5109             1                  35          2506     0.885714   \n",
       "CS3805             1                  35          2453     0.885714   \n",
       "...              ...                 ...           ...          ...   \n",
       "CS7716             1                   4           221     0.000000   \n",
       "CS7224             1                   4           191     0.000000   \n",
       "CS8504             1                   4           190     0.000000   \n",
       "CS8559             1                   4           157     0.000000   \n",
       "CS7333             1                   4           149     0.000000   \n",
       "\n",
       "             scaled_amount       score  \n",
       "customer_id                             \n",
       "CS4424            1.000000  100.000000  \n",
       "CS4320            0.897270   93.434934  \n",
       "CS3799            0.849138   88.171182  \n",
       "CS5109            0.846624   86.616892  \n",
       "CS3805            0.827586   85.665025  \n",
       "...                    ...         ...  \n",
       "CS7716            0.025862    1.293103  \n",
       "CS7224            0.015086    0.754310  \n",
       "CS8504            0.014727    0.736351  \n",
       "CS8559            0.002874    0.143678  \n",
       "CS7333            0.000000    0.000000  \n",
       "\n",
       "[6889 rows x 6 columns]"
      ]
     },
     "execution_count": 24,
     "metadata": {},
     "output_type": "execute_result"
    }
   ],
   "source": [
    "best_churn.sort_values(\"score\", inplace=True, ascending=False)\n",
    "best_churn"
   ]
  },
  {
   "cell_type": "markdown",
   "id": "f0bdb696",
   "metadata": {},
   "source": [
    "# Determining a Threshold\n",
    "\n",
    "Now that we have a way to compare customers, we need to decide on a threshold to determine which customers are \"the best.\" Should it be the first 20 customers? The first 40 customers? The top 10% of customers? What are the criteria?\n",
    "\n",
    "Here are some factors that we decided to take into account:\n",
    "\n",
    "* The budget is $1,000.\n",
    "* No indication was given about how much each coupon would be worth — it's for us to decide.\n",
    "* The coupons need to be good enough to prompt people to actually use them.\n",
    "* They can't be too high because:\n",
    "    * That reduces the number of customers who get them.\n",
    "    * It would be like giving away money.\n",
    "    * Due to price dumping, it could be illegal.\n",
    "\n",
    "From our experience, we know that a `30 %` discount is already very enticing;\n",
    "\n",
    "With all this in mind, we decide to employ the following strategy to determine the cutoff point:\n",
    "\n",
    " * Find the mean of the transactions and compute 30% of that. Make this the value of the coupon;\n",
    "* Divide the budget by the value obtained above to get the number of coupons we're going to be sending out;\n",
    "* Pick the first `n` churned customers where `n` is the result of the calculation done in the previous step. This is your cutoff point."
   ]
  },
  {
   "cell_type": "code",
   "execution_count": 27,
   "id": "32bde34e",
   "metadata": {},
   "outputs": [
    {
     "name": "stdout",
     "output_type": "stream",
     "text": [
      "Coupan: 19.4975736\n",
      "No of customers: 51.28843314123969\n"
     ]
    }
   ],
   "source": [
    "mean_trans = data[\"tran_amount\"].mean()\n",
    "coupon = 0.30 * mean_trans\n",
    "print(\"Coupan:\", coupon)\n",
    "\n",
    "nr_of_customers = 1000/coupon\n",
    "print(\"No of customers:\", nr_of_customers)"
   ]
  },
  {
   "cell_type": "markdown",
   "id": "e66167e5",
   "metadata": {},
   "source": [
    "# Delivering the Results\n",
    "\n",
    "Since we can't have 51 and a bit customers and a value of roughly `$19.50` is a weird value for a coupon, so we will round it to `$20`, and then decide to send the coupon to the top `50` churned customers.\n",
    "\n",
    "We will save a dataframe as a text file."
   ]
  },
  {
   "cell_type": "code",
   "execution_count": 28,
   "id": "5a2d7ef2",
   "metadata": {},
   "outputs": [],
   "source": [
    "top_50_churned = best_churn.loc[best_churn[\"churned\"]==1].head(50)\n",
    "top_50_churned.to_csv(\"best_customers.txt\")"
   ]
  },
  {
   "cell_type": "markdown",
   "id": "808fe7d1",
   "metadata": {},
   "source": [
    "[This](https://github.com/prab-hub/coupons/blob/main/best_customers.txt) is our final list of 50 best customers. "
   ]
  }
 ],
 "metadata": {
  "kernelspec": {
   "display_name": "Python 3 (ipykernel)",
   "language": "python",
   "name": "python3"
  },
  "language_info": {
   "codemirror_mode": {
    "name": "ipython",
    "version": 3
   },
   "file_extension": ".py",
   "mimetype": "text/x-python",
   "name": "python",
   "nbconvert_exporter": "python",
   "pygments_lexer": "ipython3",
   "version": "3.10.9"
  }
 },
 "nbformat": 4,
 "nbformat_minor": 5
}
